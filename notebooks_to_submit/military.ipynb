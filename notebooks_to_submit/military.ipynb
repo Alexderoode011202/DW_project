{
 "cells": [
  {
   "cell_type": "markdown",
   "metadata": {},
   "source": [
    "# Military data cleaning"
   ]
  },
  {
   "cell_type": "code",
   "execution_count": 14,
   "metadata": {},
   "outputs": [],
   "source": [
    "import pandas as pd\n",
    "import numpy as np"
   ]
  },
  {
   "cell_type": "code",
   "execution_count": 15,
   "metadata": {},
   "outputs": [
    {
     "data": {
      "text/html": [
       "<div>\n",
       "<style scoped>\n",
       "    .dataframe tbody tr th:only-of-type {\n",
       "        vertical-align: middle;\n",
       "    }\n",
       "\n",
       "    .dataframe tbody tr th {\n",
       "        vertical-align: top;\n",
       "    }\n",
       "\n",
       "    .dataframe thead th {\n",
       "        text-align: right;\n",
       "    }\n",
       "</style>\n",
       "<table border=\"1\" class=\"dataframe\">\n",
       "  <thead>\n",
       "    <tr style=\"text-align: right;\">\n",
       "      <th></th>\n",
       "      <th>Military Firearms Holdings, 2017\\n(c) Small Arms Survey</th>\n",
       "      <th>Unnamed: 1</th>\n",
       "      <th>Unnamed: 2</th>\n",
       "      <th>Unnamed: 3</th>\n",
       "      <th>Unnamed: 4</th>\n",
       "      <th>Unnamed: 5</th>\n",
       "      <th>Unnamed: 6</th>\n",
       "      <th>Unnamed: 7</th>\n",
       "      <th>Unnamed: 8</th>\n",
       "      <th>Unnamed: 9</th>\n",
       "    </tr>\n",
       "  </thead>\n",
       "  <tbody>\n",
       "    <tr>\n",
       "      <th>0</th>\n",
       "      <td>Country</td>\n",
       "      <td>Country</td>\n",
       "      <td>Region</td>\n",
       "      <td>Subregion</td>\n",
       "      <td>Population</td>\n",
       "      <td>NaN</td>\n",
       "      <td>Category</td>\n",
       "      <td>Total military</td>\n",
       "      <td>Firearms in sub-</td>\n",
       "      <td>Computation method</td>\n",
       "    </tr>\n",
       "    <tr>\n",
       "      <th>1</th>\n",
       "      <td>code</td>\n",
       "      <td>NaN</td>\n",
       "      <td>NaN</td>\n",
       "      <td>NaN</td>\n",
       "      <td>2017</td>\n",
       "      <td>NaN</td>\n",
       "      <td>NaN</td>\n",
       "      <td>firearms</td>\n",
       "      <td>categories</td>\n",
       "      <td>1-reported firearm counts 2-estimated based on...</td>\n",
       "    </tr>\n",
       "    <tr>\n",
       "      <th>2</th>\n",
       "      <td>AFG         Afghanistan                       ...</td>\n",
       "      <td>NaN</td>\n",
       "      <td>NaN</td>\n",
       "      <td>NaN</td>\n",
       "      <td>NaN</td>\n",
       "      <td>NaN</td>\n",
       "      <td>NaN</td>\n",
       "      <td>NaN</td>\n",
       "      <td>NaN</td>\n",
       "      <td>NaN</td>\n",
       "    </tr>\n",
       "    <tr>\n",
       "      <th>3</th>\n",
       "      <td>ALB</td>\n",
       "      <td>Albania</td>\n",
       "      <td>Europe</td>\n",
       "      <td>Southern Europe</td>\n",
       "      <td>2911000</td>\n",
       "      <td>NaN</td>\n",
       "      <td>country total\\nall active military</td>\n",
       "      <td>21750</td>\n",
       "      <td>20800</td>\n",
       "      <td>2</td>\n",
       "    </tr>\n",
       "    <tr>\n",
       "      <th>4</th>\n",
       "      <td>NaN</td>\n",
       "      <td>NaN</td>\n",
       "      <td>NaN</td>\n",
       "      <td>NaN</td>\n",
       "      <td>NaN</td>\n",
       "      <td>NaN</td>\n",
       "      <td>paramilitary forces</td>\n",
       "      <td>NaN</td>\n",
       "      <td>950</td>\n",
       "      <td>NaN</td>\n",
       "    </tr>\n",
       "  </tbody>\n",
       "</table>\n",
       "</div>"
      ],
      "text/plain": [
       "  Military Firearms Holdings, 2017\\n(c) Small Arms Survey Unnamed: 1  \\\n",
       "0                                            Country         Country   \n",
       "1                                               code             NaN   \n",
       "2  AFG         Afghanistan                       ...             NaN   \n",
       "3                                                ALB         Albania   \n",
       "4                                                NaN             NaN   \n",
       "\n",
       "  Unnamed: 2       Unnamed: 3  Unnamed: 4  Unnamed: 5  \\\n",
       "0     Region        Subregion  Population         NaN   \n",
       "1        NaN              NaN        2017         NaN   \n",
       "2        NaN              NaN         NaN         NaN   \n",
       "3     Europe  Southern Europe     2911000         NaN   \n",
       "4        NaN              NaN         NaN         NaN   \n",
       "\n",
       "                           Unnamed: 6      Unnamed: 7        Unnamed: 8  \\\n",
       "0                            Category  Total military  Firearms in sub-   \n",
       "1                                 NaN        firearms        categories   \n",
       "2                                 NaN             NaN               NaN   \n",
       "3  country total\\nall active military           21750             20800   \n",
       "4                 paramilitary forces             NaN               950   \n",
       "\n",
       "                                          Unnamed: 9  \n",
       "0                                 Computation method  \n",
       "1  1-reported firearm counts 2-estimated based on...  \n",
       "2                                                NaN  \n",
       "3                                                  2  \n",
       "4                                                NaN  "
      ]
     },
     "execution_count": 15,
     "metadata": {},
     "output_type": "execute_result"
    }
   ],
   "source": [
    "dataset = pd.read_excel(\"SAS-BP-Military-owned-firearms-annexe.xlsx\")\n",
    "dataset.head() # this shows that the dataset requires cleaning"
   ]
  },
  {
   "cell_type": "markdown",
   "metadata": {},
   "source": [
    "### Re-assigning the column names:"
   ]
  },
  {
   "cell_type": "code",
   "execution_count": 16,
   "metadata": {},
   "outputs": [],
   "source": [
    "dataset.columns = dataset.iloc[0]\n",
    "#dataset.head(10)"
   ]
  },
  {
   "cell_type": "code",
   "execution_count": 17,
   "metadata": {},
   "outputs": [],
   "source": [
    "dataset.columns = [\"Country Code\", \"Country\", \"Region\", \"Subregion\", \"Population\", \"Category\", \"Undefined\", \"Total military firearms\", \"Firearms in subcategories\", \"Computation method\"]\n",
    "#dataset.head(10)"
   ]
  },
  {
   "cell_type": "markdown",
   "metadata": {},
   "source": [
    "### Here we filter out all rows that do not depict the total amount of weapons of a country's military"
   ]
  },
  {
   "cell_type": "code",
   "execution_count": 18,
   "metadata": {},
   "outputs": [],
   "source": [
    "dataset = dataset.dropna(subset=[\"Country Code\", \"Country\"], how=\"any\")"
   ]
  },
  {
   "cell_type": "markdown",
   "metadata": {},
   "source": [
    "### And finally save the data to csv"
   ]
  },
  {
   "cell_type": "code",
   "execution_count": 19,
   "metadata": {},
   "outputs": [],
   "source": [
    "dataset.to_csv(\"SAS-BP-Military-owned-firearms-annexe.csv\")"
   ]
  }
 ],
 "metadata": {
  "kernelspec": {
   "display_name": "base",
   "language": "python",
   "name": "python3"
  },
  "language_info": {
   "codemirror_mode": {
    "name": "ipython",
    "version": 3
   },
   "file_extension": ".py",
   "mimetype": "text/x-python",
   "name": "python",
   "nbconvert_exporter": "python",
   "pygments_lexer": "ipython3",
   "version": "3.11.7"
  }
 },
 "nbformat": 4,
 "nbformat_minor": 2
}
